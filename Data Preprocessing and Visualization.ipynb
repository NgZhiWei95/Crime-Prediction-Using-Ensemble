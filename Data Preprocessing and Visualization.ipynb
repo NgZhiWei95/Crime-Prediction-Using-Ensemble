{
  "nbformat": 4,
  "nbformat_minor": 0,
  "metadata": {
    "colab": {
      "name": "DataVisualization.ipynb",
      "provenance": [],
      "collapsed_sections": []
    },
    "kernelspec": {
      "name": "python3",
      "display_name": "Python 3"
    },
    "language_info": {
      "name": "python"
    }
  },
  "cells": [
    {
      "cell_type": "code",
      "execution_count": 1,
      "metadata": {
        "colab": {
          "base_uri": "https://localhost:8080/"
        },
        "id": "uzzlhOxksvX0",
        "outputId": "b4331d56-2dcc-46d2-e3f3-6b4852f4d211"
      },
      "outputs": [
        {
          "output_type": "stream",
          "name": "stdout",
          "text": [
            "Mounted at /content/gdrive\n"
          ]
        }
      ],
      "source": [
        "from google.colab import drive\n",
        "drive.mount('/content/gdrive')"
      ]
    },
    {
      "cell_type": "code",
      "source": [
        "import pandas as pd\n",
        "raw_data = pd.read_csv(\"/content/gdrive/MyDrive/Colab Notebooks/NYPD_Complaint_Data_Historic.csv\",low_memory=False) "
      ],
      "metadata": {
        "id": "WIM3UxqMs1RG"
      },
      "execution_count": 57,
      "outputs": []
    },
    {
      "cell_type": "code",
      "source": [
        "THRESHOLD = 0\n",
        "UNUSED_LABELS = ['STATION_NAME', 'TRANSIT_DISTRICT', 'PARKS_NM'] # note: these labels are completely or mostly empty\n",
        "UNKNOWN_VALUES = ['UNKNOWN', 'U']\n",
        "LABELS_TO_BE_USED = [\n",
        "                     'CMPLNT_NUM',\n",
        "                     'BORO_NM',\n",
        "                     'OFNS_DESC',\n",
        "                     'CMPLNT_FR_DT',\n",
        "                     'CMPLNT_FR_TM',\n",
        "                     'CMPLNT_TO_DT',\n",
        "                     'CMPLNT_TO_TM',\n",
        "                     'HOUSING_PSA',\n",
        "                     'LAW_CAT_CD',\n",
        "                     'SUSP_AGE_GROUP',\n",
        "                     'SUSP_RACE',\n",
        "                     'SUSP_SEX',\n",
        "                     'VIC_AGE_GROUP',\n",
        "                     'VIC_RACE',\n",
        "                     'VIC_SEX',\n",
        "                     'Latitude',\n",
        "                     'Longitude'\n",
        "]"
      ],
      "metadata": {
        "id": "g7u9TbEUuWxS"
      },
      "execution_count": 39,
      "outputs": []
    },
    {
      "cell_type": "code",
      "source": [
        "def get_threshold(threshold):\n",
        "  return len(raw_data.columns)-len(UNUSED_LABELS)-threshold\n",
        "\n",
        "def test_get_threshold():\n",
        "  pass"
      ],
      "metadata": {
        "id": "dCtWW8MfualO"
      },
      "execution_count": 40,
      "outputs": []
    },
    {
      "cell_type": "code",
      "source": [
        "data = raw_data \\\n",
        "  .drop(columns=UNUSED_LABELS) \\\n",
        "  .replace({ val:None for val in UNKNOWN_VALUES }) \\\n",
        "  .dropna(thresh=get_threshold(0)) \\\n",
        "  .loc[:, LABELS_TO_BE_USED]"
      ],
      "metadata": {
        "id": "40JfrYl6ubzc"
      },
      "execution_count": 41,
      "outputs": []
    },
    {
      "cell_type": "code",
      "source": [
        "data"
      ],
      "metadata": {
        "colab": {
          "base_uri": "https://localhost:8080/",
          "height": 572
        },
        "id": "3ZE35F7WuxxT",
        "outputId": "795e31bf-fd55-4518-a71c-508ab628fd23"
      },
      "execution_count": 42,
      "outputs": [
        {
          "output_type": "execute_result",
          "data": {
            "text/plain": [
              "         CMPLNT_NUM    BORO_NM                     OFNS_DESC CMPLNT_FR_DT  \\\n",
              "33        593134992   BROOKLYN                FELONY ASSAULT   07/20/2013   \n",
              "108       566503769   BROOKLYN                 GRAND LARCENY   08/04/2012   \n",
              "168       563768013   BROOKLYN  ASSAULT 3 & RELATED OFFENSES   06/15/2017   \n",
              "178       677977125      BRONX  ASSAULT 3 & RELATED OFFENSES   12/01/2016   \n",
              "247       380439115   BROOKLYN  ASSAULT 3 & RELATED OFFENSES   02/21/2016   \n",
              "...             ...        ...                           ...          ...   \n",
              "6982942   368358311   BROOKLYN                 HARRASSMENT 2   12/05/2017   \n",
              "6983012   622273511  MANHATTAN                 HARRASSMENT 2   03/11/2018   \n",
              "6983079   808144426  MANHATTAN  ASSAULT 3 & RELATED OFFENSES   01/27/2018   \n",
              "6983092   255356017   BROOKLYN                       ROBBERY   11/29/2018   \n",
              "6983157   488162445  MANHATTAN                 HARRASSMENT 2   05/19/2018   \n",
              "\n",
              "        CMPLNT_FR_TM CMPLNT_TO_DT CMPLNT_TO_TM HOUSING_PSA   LAW_CAT_CD  \\\n",
              "33          18:30:00   07/20/2013     18:32:00         227       FELONY   \n",
              "108         23:50:00   08/04/2012     23:55:00       47522       FELONY   \n",
              "168         03:30:00   06/15/2017     06:15:00         243  MISDEMEANOR   \n",
              "178         03:01:00   12/01/2016     04:07:00         879  MISDEMEANOR   \n",
              "247         20:25:00   02/21/2016     20:30:00         450  MISDEMEANOR   \n",
              "...              ...          ...          ...         ...          ...   \n",
              "6982942     11:00:00   12/05/2017     11:15:00         411    VIOLATION   \n",
              "6983012     20:30:00   03/11/2018     21:00:00         696    VIOLATION   \n",
              "6983079     03:39:00   01/27/2018     03:54:00         590  MISDEMEANOR   \n",
              "6983092     22:35:00   11/29/2018     22:40:00         434       FELONY   \n",
              "6983157     17:30:00   05/19/2018     17:35:00         645    VIOLATION   \n",
              "\n",
              "        SUSP_AGE_GROUP       SUSP_RACE SUSP_SEX VIC_AGE_GROUP        VIC_RACE  \\\n",
              "33               25-44           BLACK        M         25-44           BLACK   \n",
              "108              25-44           BLACK        F         45-64           BLACK   \n",
              "168              25-44           BLACK        M         25-44           BLACK   \n",
              "178              25-44  WHITE HISPANIC        M         45-64  WHITE HISPANIC   \n",
              "247              25-44           BLACK        F         45-64           BLACK   \n",
              "...                ...             ...      ...           ...             ...   \n",
              "6982942          45-64           BLACK        F         25-44           BLACK   \n",
              "6983012          45-64  WHITE HISPANIC        M         25-44  BLACK HISPANIC   \n",
              "6983079          25-44  WHITE HISPANIC        F         25-44  BLACK HISPANIC   \n",
              "6983092          25-44           BLACK        M         18-24           WHITE   \n",
              "6983157          45-64           BLACK        F         25-44  WHITE HISPANIC   \n",
              "\n",
              "        VIC_SEX   Latitude  Longitude  \n",
              "33            F  40.654339 -73.895576  \n",
              "108           F  40.659775 -73.917856  \n",
              "168           M  40.635707 -73.922573  \n",
              "178           F  40.834955 -73.878673  \n",
              "247           F  40.679018 -73.924182  \n",
              "...         ...        ...        ...  \n",
              "6982942       F  40.665686 -73.898619  \n",
              "6983012       F  40.796444 -73.964918  \n",
              "6983079       M  40.723393 -73.976255  \n",
              "6983092       F  40.686748 -73.946042  \n",
              "6983157       F  40.811130 -73.936715  \n",
              "\n",
              "[69100 rows x 17 columns]"
            ],
            "text/html": [
              "\n",
              "  <div id=\"df-07450342-81f7-48a3-9acc-42e12e8192e2\">\n",
              "    <div class=\"colab-df-container\">\n",
              "      <div>\n",
              "<style scoped>\n",
              "    .dataframe tbody tr th:only-of-type {\n",
              "        vertical-align: middle;\n",
              "    }\n",
              "\n",
              "    .dataframe tbody tr th {\n",
              "        vertical-align: top;\n",
              "    }\n",
              "\n",
              "    .dataframe thead th {\n",
              "        text-align: right;\n",
              "    }\n",
              "</style>\n",
              "<table border=\"1\" class=\"dataframe\">\n",
              "  <thead>\n",
              "    <tr style=\"text-align: right;\">\n",
              "      <th></th>\n",
              "      <th>CMPLNT_NUM</th>\n",
              "      <th>BORO_NM</th>\n",
              "      <th>OFNS_DESC</th>\n",
              "      <th>CMPLNT_FR_DT</th>\n",
              "      <th>CMPLNT_FR_TM</th>\n",
              "      <th>CMPLNT_TO_DT</th>\n",
              "      <th>CMPLNT_TO_TM</th>\n",
              "      <th>HOUSING_PSA</th>\n",
              "      <th>LAW_CAT_CD</th>\n",
              "      <th>SUSP_AGE_GROUP</th>\n",
              "      <th>SUSP_RACE</th>\n",
              "      <th>SUSP_SEX</th>\n",
              "      <th>VIC_AGE_GROUP</th>\n",
              "      <th>VIC_RACE</th>\n",
              "      <th>VIC_SEX</th>\n",
              "      <th>Latitude</th>\n",
              "      <th>Longitude</th>\n",
              "    </tr>\n",
              "  </thead>\n",
              "  <tbody>\n",
              "    <tr>\n",
              "      <th>33</th>\n",
              "      <td>593134992</td>\n",
              "      <td>BROOKLYN</td>\n",
              "      <td>FELONY ASSAULT</td>\n",
              "      <td>07/20/2013</td>\n",
              "      <td>18:30:00</td>\n",
              "      <td>07/20/2013</td>\n",
              "      <td>18:32:00</td>\n",
              "      <td>227</td>\n",
              "      <td>FELONY</td>\n",
              "      <td>25-44</td>\n",
              "      <td>BLACK</td>\n",
              "      <td>M</td>\n",
              "      <td>25-44</td>\n",
              "      <td>BLACK</td>\n",
              "      <td>F</td>\n",
              "      <td>40.654339</td>\n",
              "      <td>-73.895576</td>\n",
              "    </tr>\n",
              "    <tr>\n",
              "      <th>108</th>\n",
              "      <td>566503769</td>\n",
              "      <td>BROOKLYN</td>\n",
              "      <td>GRAND LARCENY</td>\n",
              "      <td>08/04/2012</td>\n",
              "      <td>23:50:00</td>\n",
              "      <td>08/04/2012</td>\n",
              "      <td>23:55:00</td>\n",
              "      <td>47522</td>\n",
              "      <td>FELONY</td>\n",
              "      <td>25-44</td>\n",
              "      <td>BLACK</td>\n",
              "      <td>F</td>\n",
              "      <td>45-64</td>\n",
              "      <td>BLACK</td>\n",
              "      <td>F</td>\n",
              "      <td>40.659775</td>\n",
              "      <td>-73.917856</td>\n",
              "    </tr>\n",
              "    <tr>\n",
              "      <th>168</th>\n",
              "      <td>563768013</td>\n",
              "      <td>BROOKLYN</td>\n",
              "      <td>ASSAULT 3 &amp; RELATED OFFENSES</td>\n",
              "      <td>06/15/2017</td>\n",
              "      <td>03:30:00</td>\n",
              "      <td>06/15/2017</td>\n",
              "      <td>06:15:00</td>\n",
              "      <td>243</td>\n",
              "      <td>MISDEMEANOR</td>\n",
              "      <td>25-44</td>\n",
              "      <td>BLACK</td>\n",
              "      <td>M</td>\n",
              "      <td>25-44</td>\n",
              "      <td>BLACK</td>\n",
              "      <td>M</td>\n",
              "      <td>40.635707</td>\n",
              "      <td>-73.922573</td>\n",
              "    </tr>\n",
              "    <tr>\n",
              "      <th>178</th>\n",
              "      <td>677977125</td>\n",
              "      <td>BRONX</td>\n",
              "      <td>ASSAULT 3 &amp; RELATED OFFENSES</td>\n",
              "      <td>12/01/2016</td>\n",
              "      <td>03:01:00</td>\n",
              "      <td>12/01/2016</td>\n",
              "      <td>04:07:00</td>\n",
              "      <td>879</td>\n",
              "      <td>MISDEMEANOR</td>\n",
              "      <td>25-44</td>\n",
              "      <td>WHITE HISPANIC</td>\n",
              "      <td>M</td>\n",
              "      <td>45-64</td>\n",
              "      <td>WHITE HISPANIC</td>\n",
              "      <td>F</td>\n",
              "      <td>40.834955</td>\n",
              "      <td>-73.878673</td>\n",
              "    </tr>\n",
              "    <tr>\n",
              "      <th>247</th>\n",
              "      <td>380439115</td>\n",
              "      <td>BROOKLYN</td>\n",
              "      <td>ASSAULT 3 &amp; RELATED OFFENSES</td>\n",
              "      <td>02/21/2016</td>\n",
              "      <td>20:25:00</td>\n",
              "      <td>02/21/2016</td>\n",
              "      <td>20:30:00</td>\n",
              "      <td>450</td>\n",
              "      <td>MISDEMEANOR</td>\n",
              "      <td>25-44</td>\n",
              "      <td>BLACK</td>\n",
              "      <td>F</td>\n",
              "      <td>45-64</td>\n",
              "      <td>BLACK</td>\n",
              "      <td>F</td>\n",
              "      <td>40.679018</td>\n",
              "      <td>-73.924182</td>\n",
              "    </tr>\n",
              "    <tr>\n",
              "      <th>...</th>\n",
              "      <td>...</td>\n",
              "      <td>...</td>\n",
              "      <td>...</td>\n",
              "      <td>...</td>\n",
              "      <td>...</td>\n",
              "      <td>...</td>\n",
              "      <td>...</td>\n",
              "      <td>...</td>\n",
              "      <td>...</td>\n",
              "      <td>...</td>\n",
              "      <td>...</td>\n",
              "      <td>...</td>\n",
              "      <td>...</td>\n",
              "      <td>...</td>\n",
              "      <td>...</td>\n",
              "      <td>...</td>\n",
              "      <td>...</td>\n",
              "    </tr>\n",
              "    <tr>\n",
              "      <th>6982942</th>\n",
              "      <td>368358311</td>\n",
              "      <td>BROOKLYN</td>\n",
              "      <td>HARRASSMENT 2</td>\n",
              "      <td>12/05/2017</td>\n",
              "      <td>11:00:00</td>\n",
              "      <td>12/05/2017</td>\n",
              "      <td>11:15:00</td>\n",
              "      <td>411</td>\n",
              "      <td>VIOLATION</td>\n",
              "      <td>45-64</td>\n",
              "      <td>BLACK</td>\n",
              "      <td>F</td>\n",
              "      <td>25-44</td>\n",
              "      <td>BLACK</td>\n",
              "      <td>F</td>\n",
              "      <td>40.665686</td>\n",
              "      <td>-73.898619</td>\n",
              "    </tr>\n",
              "    <tr>\n",
              "      <th>6983012</th>\n",
              "      <td>622273511</td>\n",
              "      <td>MANHATTAN</td>\n",
              "      <td>HARRASSMENT 2</td>\n",
              "      <td>03/11/2018</td>\n",
              "      <td>20:30:00</td>\n",
              "      <td>03/11/2018</td>\n",
              "      <td>21:00:00</td>\n",
              "      <td>696</td>\n",
              "      <td>VIOLATION</td>\n",
              "      <td>45-64</td>\n",
              "      <td>WHITE HISPANIC</td>\n",
              "      <td>M</td>\n",
              "      <td>25-44</td>\n",
              "      <td>BLACK HISPANIC</td>\n",
              "      <td>F</td>\n",
              "      <td>40.796444</td>\n",
              "      <td>-73.964918</td>\n",
              "    </tr>\n",
              "    <tr>\n",
              "      <th>6983079</th>\n",
              "      <td>808144426</td>\n",
              "      <td>MANHATTAN</td>\n",
              "      <td>ASSAULT 3 &amp; RELATED OFFENSES</td>\n",
              "      <td>01/27/2018</td>\n",
              "      <td>03:39:00</td>\n",
              "      <td>01/27/2018</td>\n",
              "      <td>03:54:00</td>\n",
              "      <td>590</td>\n",
              "      <td>MISDEMEANOR</td>\n",
              "      <td>25-44</td>\n",
              "      <td>WHITE HISPANIC</td>\n",
              "      <td>F</td>\n",
              "      <td>25-44</td>\n",
              "      <td>BLACK HISPANIC</td>\n",
              "      <td>M</td>\n",
              "      <td>40.723393</td>\n",
              "      <td>-73.976255</td>\n",
              "    </tr>\n",
              "    <tr>\n",
              "      <th>6983092</th>\n",
              "      <td>255356017</td>\n",
              "      <td>BROOKLYN</td>\n",
              "      <td>ROBBERY</td>\n",
              "      <td>11/29/2018</td>\n",
              "      <td>22:35:00</td>\n",
              "      <td>11/29/2018</td>\n",
              "      <td>22:40:00</td>\n",
              "      <td>434</td>\n",
              "      <td>FELONY</td>\n",
              "      <td>25-44</td>\n",
              "      <td>BLACK</td>\n",
              "      <td>M</td>\n",
              "      <td>18-24</td>\n",
              "      <td>WHITE</td>\n",
              "      <td>F</td>\n",
              "      <td>40.686748</td>\n",
              "      <td>-73.946042</td>\n",
              "    </tr>\n",
              "    <tr>\n",
              "      <th>6983157</th>\n",
              "      <td>488162445</td>\n",
              "      <td>MANHATTAN</td>\n",
              "      <td>HARRASSMENT 2</td>\n",
              "      <td>05/19/2018</td>\n",
              "      <td>17:30:00</td>\n",
              "      <td>05/19/2018</td>\n",
              "      <td>17:35:00</td>\n",
              "      <td>645</td>\n",
              "      <td>VIOLATION</td>\n",
              "      <td>45-64</td>\n",
              "      <td>BLACK</td>\n",
              "      <td>F</td>\n",
              "      <td>25-44</td>\n",
              "      <td>WHITE HISPANIC</td>\n",
              "      <td>F</td>\n",
              "      <td>40.811130</td>\n",
              "      <td>-73.936715</td>\n",
              "    </tr>\n",
              "  </tbody>\n",
              "</table>\n",
              "<p>69100 rows × 17 columns</p>\n",
              "</div>\n",
              "      <button class=\"colab-df-convert\" onclick=\"convertToInteractive('df-07450342-81f7-48a3-9acc-42e12e8192e2')\"\n",
              "              title=\"Convert this dataframe to an interactive table.\"\n",
              "              style=\"display:none;\">\n",
              "        \n",
              "  <svg xmlns=\"http://www.w3.org/2000/svg\" height=\"24px\"viewBox=\"0 0 24 24\"\n",
              "       width=\"24px\">\n",
              "    <path d=\"M0 0h24v24H0V0z\" fill=\"none\"/>\n",
              "    <path d=\"M18.56 5.44l.94 2.06.94-2.06 2.06-.94-2.06-.94-.94-2.06-.94 2.06-2.06.94zm-11 1L8.5 8.5l.94-2.06 2.06-.94-2.06-.94L8.5 2.5l-.94 2.06-2.06.94zm10 10l.94 2.06.94-2.06 2.06-.94-2.06-.94-.94-2.06-.94 2.06-2.06.94z\"/><path d=\"M17.41 7.96l-1.37-1.37c-.4-.4-.92-.59-1.43-.59-.52 0-1.04.2-1.43.59L10.3 9.45l-7.72 7.72c-.78.78-.78 2.05 0 2.83L4 21.41c.39.39.9.59 1.41.59.51 0 1.02-.2 1.41-.59l7.78-7.78 2.81-2.81c.8-.78.8-2.07 0-2.86zM5.41 20L4 18.59l7.72-7.72 1.47 1.35L5.41 20z\"/>\n",
              "  </svg>\n",
              "      </button>\n",
              "      \n",
              "  <style>\n",
              "    .colab-df-container {\n",
              "      display:flex;\n",
              "      flex-wrap:wrap;\n",
              "      gap: 12px;\n",
              "    }\n",
              "\n",
              "    .colab-df-convert {\n",
              "      background-color: #E8F0FE;\n",
              "      border: none;\n",
              "      border-radius: 50%;\n",
              "      cursor: pointer;\n",
              "      display: none;\n",
              "      fill: #1967D2;\n",
              "      height: 32px;\n",
              "      padding: 0 0 0 0;\n",
              "      width: 32px;\n",
              "    }\n",
              "\n",
              "    .colab-df-convert:hover {\n",
              "      background-color: #E2EBFA;\n",
              "      box-shadow: 0px 1px 2px rgba(60, 64, 67, 0.3), 0px 1px 3px 1px rgba(60, 64, 67, 0.15);\n",
              "      fill: #174EA6;\n",
              "    }\n",
              "\n",
              "    [theme=dark] .colab-df-convert {\n",
              "      background-color: #3B4455;\n",
              "      fill: #D2E3FC;\n",
              "    }\n",
              "\n",
              "    [theme=dark] .colab-df-convert:hover {\n",
              "      background-color: #434B5C;\n",
              "      box-shadow: 0px 1px 3px 1px rgba(0, 0, 0, 0.15);\n",
              "      filter: drop-shadow(0px 1px 2px rgba(0, 0, 0, 0.3));\n",
              "      fill: #FFFFFF;\n",
              "    }\n",
              "  </style>\n",
              "\n",
              "      <script>\n",
              "        const buttonEl =\n",
              "          document.querySelector('#df-07450342-81f7-48a3-9acc-42e12e8192e2 button.colab-df-convert');\n",
              "        buttonEl.style.display =\n",
              "          google.colab.kernel.accessAllowed ? 'block' : 'none';\n",
              "\n",
              "        async function convertToInteractive(key) {\n",
              "          const element = document.querySelector('#df-07450342-81f7-48a3-9acc-42e12e8192e2');\n",
              "          const dataTable =\n",
              "            await google.colab.kernel.invokeFunction('convertToInteractive',\n",
              "                                                     [key], {});\n",
              "          if (!dataTable) return;\n",
              "\n",
              "          const docLinkHtml = 'Like what you see? Visit the ' +\n",
              "            '<a target=\"_blank\" href=https://colab.research.google.com/notebooks/data_table.ipynb>data table notebook</a>'\n",
              "            + ' to learn more about interactive tables.';\n",
              "          element.innerHTML = '';\n",
              "          dataTable['output_type'] = 'display_data';\n",
              "          await google.colab.output.renderOutput(dataTable, element);\n",
              "          const docLink = document.createElement('div');\n",
              "          docLink.innerHTML = docLinkHtml;\n",
              "          element.appendChild(docLink);\n",
              "        }\n",
              "      </script>\n",
              "    </div>\n",
              "  </div>\n",
              "  "
            ]
          },
          "metadata": {},
          "execution_count": 42
        }
      ]
    },
    {
      "cell_type": "code",
      "source": [
        "###Data Visualization 1\n",
        "data.value_counts([\"SUSP_RACE\", \"SUSP_SEX\"])"
      ],
      "metadata": {
        "colab": {
          "base_uri": "https://localhost:8080/"
        },
        "id": "4VK2mjd2u_Lv",
        "outputId": "8b6ad98c-46d3-4830-b806-5fd4458600c9"
      },
      "execution_count": 34,
      "outputs": [
        {
          "output_type": "execute_result",
          "data": {
            "text/plain": [
              "SUSP_RACE                       SUSP_SEX\n",
              "BLACK                           M           33858\n",
              "                                F           12100\n",
              "WHITE HISPANIC                  M           11104\n",
              "                                F            4567\n",
              "BLACK HISPANIC                  M            4112\n",
              "                                F            1400\n",
              "WHITE                           M             979\n",
              "                                F             504\n",
              "ASIAN / PACIFIC ISLANDER        M             317\n",
              "                                F             104\n",
              "AMERICAN INDIAN/ALASKAN NATIVE  M              41\n",
              "                                F              14\n",
              "dtype: int64"
            ]
          },
          "metadata": {},
          "execution_count": 34
        }
      ]
    },
    {
      "cell_type": "code",
      "source": [
        "import numpy as np\n",
        "import matplotlib.pyplot as plt\n",
        "\n",
        "data = {'BLACK M':33858, 'BLACK F':12100, 'WHITE HISPANIC M':11104, 'WHITE HISPANIC F':4567, \n",
        "        'BLACK HISPANIC M':4112, 'BLACK HISPANIC F':1400, 'WHITE M':979, 'WHITE F':504, \n",
        "        'ASIAN / PACIFIC ISLANDER M': 317, 'ASIAN / PACIFIC ISLANDER F':104, 'AMERICAN INDIAN/ALASKAN NATIVE M':41, 'AMERICAN INDIAN/ALASKAN NATIVE F':14}\n",
        "a = list(data.keys())\n",
        "b = list(data.values())\n",
        "  \n",
        "fig = plt.figure(figsize = (15, 10))\n",
        " \n",
        "plt.bar(a, b, color ='blue',\n",
        "        width = 0.5)\n",
        " \n",
        "plt.xlabel(\"Race & Gender\")\n",
        "plt.ylabel(\"Count\")\n",
        "plt.title(\"Suspect's Race and Gender Relation\")\n",
        "plt.show()"
      ],
      "metadata": {
        "colab": {
          "base_uri": "https://localhost:8080/",
          "height": 621
        },
        "id": "WFvFszqoz5cn",
        "outputId": "5c15bc0d-948d-4a81-babc-a06dcfd6803c"
      },
      "execution_count": 35,
      "outputs": [
        {
          "output_type": "display_data",
          "data": {
            "text/plain": [
              "<Figure size 1080x720 with 1 Axes>"
            ],
            "image/png": "[encoded data removed]"
          },
          "metadata": {
            "needs_background": "light"
          }
        }
      ]
    },
    {
      "cell_type": "code",
      "source": [
        "###Data Visualization 2\n",
        "data[\"CMPLNT_FR_DT\"] = pd.to_datetime(data.CMPLNT_FR_DT)\n",
        "data = data.drop( data[ data['CMPLNT_FR_DT'] < pd.Timestamp(2010,1,1) ].index)\n",
        "data['CMPLNT_FR_DT'].dt.year.value_counts()"
      ],
      "metadata": {
        "colab": {
          "base_uri": "https://localhost:8080/"
        },
        "id": "LS7V8NLo2lDY",
        "outputId": "ad890be2-ffe3-4c29-b7ba-1e8c574a6d7e"
      },
      "execution_count": 46,
      "outputs": [
        {
          "output_type": "execute_result",
          "data": {
            "text/plain": [
              "2016    8641\n",
              "2019    8621\n",
              "2018    8380\n",
              "2017    8379\n",
              "2015    6896\n",
              "2014    4605\n",
              "2013    3738\n",
              "2012    3272\n",
              "2011    2990\n",
              "2010    2979\n",
              "Name: CMPLNT_FR_DT, dtype: int64"
            ]
          },
          "metadata": {},
          "execution_count": 46
        }
      ]
    },
    {
      "cell_type": "code",
      "source": [
        "import matplotlib.pyplot as plt\n",
        "%matplotlib inline\n",
        "import numpy as np\n",
        "\n",
        "figure(figsize=(7, 5))\n",
        "\n",
        "plt.title('Number of Complains by Years')\n",
        "\n",
        "ticks = [1, 2, 3, 4, 5, 6, 7, 8, 9, 10]\n",
        "labels = [\"2010\", \"2011\", \"2012\", \"2013\", \"2014\", \"2015\", \"2016\", \"2017\", \"2018\", \"2019\"]\n",
        "plt.xticks(ticks, labels)\n",
        "\n",
        "x = [1, 2, 3, 4, 5, 6, 7, 8, 9, 10]\n",
        "y = [2979, 2990, 3272, 3738, 4605, 6896, 8641, 8379, 8380, 8621]\n",
        "\n",
        "plt.plot(x, y)\n",
        "plt.show()"
      ],
      "metadata": {
        "colab": {
          "base_uri": "https://localhost:8080/",
          "height": 336
        },
        "id": "RwaJxZFs6G4y",
        "outputId": "56ada2e3-ad44-41e2-9a45-2a2c11524906"
      },
      "execution_count": 56,
      "outputs": [
        {
          "output_type": "display_data",
          "data": {
            "text/plain": [
              "<Figure size 504x360 with 1 Axes>"
            ],
            "image/png": "[encoded data removed]"
          },
          "metadata": {
            "needs_background": "light"
          }
        }
      ]
    },
    {
      "cell_type": "code",
      "source": [
        "###Data Visualization 3\n",
        "from sklearn.cluster import KMeans\n",
        "import numpy as np\n",
        "import matplotlib.pyplot as plt\n",
        "\n",
        "figure(figsize=(10, 7))\n",
        "plt.title('Location of Crime by Latitude & Longitude')\n",
        "\n",
        "# k means\n",
        "kmeans = KMeans(n_clusters=1, random_state=0)\n",
        "data['cluster'] = kmeans.fit_predict(data[['Latitude', 'Longitude']])\n",
        "\n",
        "# get centroids\n",
        "centroids = kmeans.cluster_centers_\n",
        "cen_x = [i[0] for i in centroids] \n",
        "cen_y = [i[1] for i in centroids]\n",
        "\n",
        "## add to df\n",
        "data['cen_x'] = data.cluster.map({0:cen_x[0]})\n",
        "data['cen_y'] = data.cluster.map({0:cen_y[0]})\n",
        "\n",
        "# define and map colors\n",
        "colors = ['#FF0000']\n",
        "data['c'] = data.cluster.map({0:colors[0]})\n",
        "\n",
        "plt.scatter(data.Latitude, data.Longitude, c=data.c, alpha = 1, s=10)"
      ],
      "metadata": {
        "colab": {
          "base_uri": "https://localhost:8080/",
          "height": 461
        },
        "id": "W-mZJfFl-PY8",
        "outputId": "b7008dfe-4906-4f9f-a63e-0a8802546b20"
      },
      "execution_count": 68,
      "outputs": [
        {
          "output_type": "execute_result",
          "data": {
            "text/plain": [
              "<matplotlib.collections.PathCollection at 0x7fcea4be42d0>"
            ]
          },
          "metadata": {},
          "execution_count": 68
        },
        {
          "output_type": "display_data",
          "data": {
            "text/plain": [
              "<Figure size 720x504 with 1 Axes>"
            ],
            "image/png": "[encoded data removed]"
          },
          "metadata": {
            "needs_background": "light"
          }
        }
      ]
    }
  ]
}